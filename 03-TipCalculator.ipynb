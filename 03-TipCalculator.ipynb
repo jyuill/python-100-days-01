{
 "cells": [
  {
   "cell_type": "markdown",
   "metadata": {},
   "source": [
    "A Simple Tip Calculator"
   ]
  },
  {
   "cell_type": "code",
   "execution_count": 44,
   "metadata": {},
   "outputs": [],
   "source": [
    "cuenta = float(input(\"How much is your bill? $\"))\n",
    "cuenta_pt = \"{:.2f}\".format(cuenta)\n",
    "tip_pc = int(input(\"What % would you like to tip? 10, 15, 20\"))\n",
    "num_people = int(input(\"How many people are you splitting?\"))"
   ]
  },
  {
   "cell_type": "code",
   "execution_count": 45,
   "metadata": {},
   "outputs": [
    {
     "name": "stdout",
     "output_type": "stream",
     "text": [
      "Your bill is: $200.00\n",
      "Your tip % is: 10%\n",
      "You are splitting between 4 people\n"
     ]
    }
   ],
   "source": [
    "print(f\"Your bill is: ${cuenta_pt}\")\n",
    "print(f\"Your tip % is: {tip_pc}%\")\n",
    "print(f\"You are splitting between {num_people} people\")"
   ]
  },
  {
   "cell_type": "code",
   "execution_count": 46,
   "metadata": {},
   "outputs": [],
   "source": [
    "tip_pc = tip_pc/100\n",
    "tip_calc = round(cuenta*tip_pc,2)\n",
    "tip_calc_pt = \"{:.2f}\".format(tip_calc)\n",
    "tip_calc_pp = round(tip_calc/num_people,2)\n",
    "bill_tip = round(cuenta*(1+tip_pc),2)\n",
    "bill_tip_pt = \"{:.2f}\".format(bill_tip)\n",
    "bill_tip_pp = round(bill_tip/num_people,2)\n",
    "bill_tip_pp_pt = \"{:.2f}\".format(bill_tip_pp)"
   ]
  },
  {
   "cell_type": "code",
   "execution_count": 48,
   "metadata": {},
   "outputs": [
    {
     "name": "stdout",
     "output_type": "stream",
     "text": [
      "Total tip: $20.00\n",
      "Total bill incl. tip: $220.00\n",
      "Each person owes $55.00\n"
     ]
    }
   ],
   "source": [
    "print(f\"Total tip: ${tip_calc_pt}\")\n",
    "print(f\"Total bill incl. tip: ${bill_tip_pt}\")\n",
    "print(f\"Each person owes ${bill_tip_pp_pt}\")"
   ]
  }
 ],
 "metadata": {
  "kernelspec": {
   "display_name": ".venv",
   "language": "python",
   "name": "python3"
  },
  "language_info": {
   "codemirror_mode": {
    "name": "ipython",
    "version": 3
   },
   "file_extension": ".py",
   "mimetype": "text/x-python",
   "name": "python",
   "nbconvert_exporter": "python",
   "pygments_lexer": "ipython3",
   "version": "3.11.4"
  }
 },
 "nbformat": 4,
 "nbformat_minor": 2
}
