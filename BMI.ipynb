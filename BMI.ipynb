{
 "cells": [
  {
   "cell_type": "markdown",
   "metadata": {},
   "source": [
    "The Body Mass Indicator (BMI) Calculator"
   ]
  },
  {
   "cell_type": "code",
   "execution_count": 1,
   "metadata": {},
   "outputs": [
    {
     "name": "stdout",
     "output_type": "stream",
     "text": [
      "Your BMI: 30.864197530864196\n"
     ]
    }
   ],
   "source": [
    "height = float(input(\"Please provide height in meters: \"))\n",
    "weight = float(input(\"Please provide weight in kg: \"))\n",
    "bmi = weight/(height**2)\n",
    "print(\"Your BMI: \"+str(bmi))"
   ]
  },
  {
   "cell_type": "code",
   "execution_count": 2,
   "metadata": {},
   "outputs": [
    {
     "name": "stdout",
     "output_type": "stream",
     "text": [
      "Or, rounded to 2 decimals:\n",
      "30.86\n"
     ]
    }
   ],
   "source": [
    "print(\"Or, rounded to 2 decimals:\")\n",
    "print(round(bmi, 2))"
   ]
  }
 ],
 "metadata": {
  "kernelspec": {
   "display_name": ".venv",
   "language": "python",
   "name": "python3"
  },
  "language_info": {
   "codemirror_mode": {
    "name": "ipython",
    "version": 3
   },
   "file_extension": ".py",
   "mimetype": "text/x-python",
   "name": "python",
   "nbconvert_exporter": "python",
   "pygments_lexer": "ipython3",
   "version": "3.11.4"
  }
 },
 "nbformat": 4,
 "nbformat_minor": 2
}
