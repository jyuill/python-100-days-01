{
 "cells": [
  {
   "cell_type": "markdown",
   "metadata": {},
   "source": [
    "Get your tickets!"
   ]
  },
  {
   "cell_type": "code",
   "execution_count": 5,
   "metadata": {},
   "outputs": [],
   "source": [
    "# first determine if tall enough\n",
    "height = int(input(\"How tall are you in cm?\"))\n"
   ]
  },
  {
   "cell_type": "code",
   "execution_count": 6,
   "metadata": {},
   "outputs": [
    {
     "name": "stdout",
     "output_type": "stream",
     "text": [
      "Great, you are tall enough!\n",
      "Your ticket is $12\n"
     ]
    }
   ],
   "source": [
    "if height >= 100:\n",
    "    print(\"Great, you are tall enough!\")\n",
    "    age = int(input(\"How old are you?\"))\n",
    "    if age <= 12:\n",
    "        ticket = 10\n",
    "        print(\"Your ticket is ${ticket}\")\n",
    "    elif age <= 18:\n",
    "        ticket = 12\n",
    "        print(f\"Your ticket is ${ticket}\")\n",
    "    else:\n",
    "        ticket = 18\n",
    "        print(f\"Your ticket is ${ticket}\")\n",
    "else:\n",
    "    print(\"Sorry, you are not tall enough to safely ride.\")"
   ]
  },
  {
   "cell_type": "code",
   "execution_count": 7,
   "metadata": {},
   "outputs": [
    {
     "name": "stdout",
     "output_type": "stream",
     "text": [
      "Please pay $12\n"
     ]
    }
   ],
   "source": [
    "photo = input(\"Would you like a photo? (Y/N)\")\n",
    "if photo == 'Y':\n",
    "    full_ticket = ticket + 3\n",
    "    print(f\"Please pay ${full_ticket}\")\n",
    "else:\n",
    "    print(f\"Please pay ${ticket}\")"
   ]
  }
 ],
 "metadata": {
  "kernelspec": {
   "display_name": ".venv",
   "language": "python",
   "name": "python3"
  },
  "language_info": {
   "codemirror_mode": {
    "name": "ipython",
    "version": 3
   },
   "file_extension": ".py",
   "mimetype": "text/x-python",
   "name": "python",
   "nbconvert_exporter": "python",
   "pygments_lexer": "ipython3",
   "version": "3.11.4"
  }
 },
 "nbformat": 4,
 "nbformat_minor": 2
}
