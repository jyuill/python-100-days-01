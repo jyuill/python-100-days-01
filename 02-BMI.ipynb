{
 "cells": [
  {
   "cell_type": "markdown",
   "metadata": {},
   "source": [
    "The Body Mass Indicator (BMI) Calculator"
   ]
  },
  {
   "cell_type": "code",
   "execution_count": 10,
   "metadata": {},
   "outputs": [
    {
     "name": "stdout",
     "output_type": "stream",
     "text": [
      "Your BMI: 24.930747922437675\n",
      "That's right, your BMI is: 24.930747922437675. And that's good. \n",
      " So are you winning the BMI? True.\n"
     ]
    }
   ],
   "source": [
    "height = float(input(\"Please provide height in meters: \"))\n",
    "weight = float(input(\"Please provide weight in kg: \"))\n",
    "bmi = weight/(height**2)\n",
    "if bmi > 30:\n",
    "    bmi_good = \"bad\"\n",
    "    bmi_win = False\n",
    "else:\n",
    "    bmi_good = \"good\"\n",
    "    bmi_win = True\n",
    "\n",
    "print(\"Your BMI: \"+str(bmi))\n",
    "# OR, more convenient...\n",
    "# use 'f' and put variable in curlies inside string\n",
    "print(f\"That's right, your BMI is: {bmi}. And that's {bmi_good}. \\n So are you winning the BMI? {bmi_win}.\")"
   ]
  },
  {
   "cell_type": "code",
   "execution_count": 11,
   "metadata": {},
   "outputs": [
    {
     "name": "stdout",
     "output_type": "stream",
     "text": [
      "Or, rounded to 2 decimals: 24.93. \n",
      " which is still good.\n"
     ]
    }
   ],
   "source": [
    "print(f\"Or, rounded to 2 decimals: {round(bmi,2)}. \\n which is still {bmi_good}.\")\n"
   ]
  }
 ],
 "metadata": {
  "kernelspec": {
   "display_name": ".venv",
   "language": "python",
   "name": "python3"
  },
  "language_info": {
   "codemirror_mode": {
    "name": "ipython",
    "version": 3
   },
   "file_extension": ".py",
   "mimetype": "text/x-python",
   "name": "python",
   "nbconvert_exporter": "python",
   "pygments_lexer": "ipython3",
   "version": "3.11.4"
  }
 },
 "nbformat": 4,
 "nbformat_minor": 2
}
